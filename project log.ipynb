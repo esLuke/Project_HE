{
 "cells": [
  {
   "cell_type": "markdown",
   "id": "13d721f8-588e-427c-a8a1-37bdc7626dbe",
   "metadata": {
    "tags": []
   },
   "source": [
    "# Project Log\n",
    "\n",
    "This is the MSc project log, which will be updated weekly and automatically synced to GitHub.\n",
    "<br>Project Name : Detecting gravitational waves from highly eccentric systems\n",
    "with future gravitational wave detectors\n",
    "<br>Author : Lujia Xu 2766731X@student.gla.ac.uk\n",
    "<br>Supervisor : Prof. Ik Siong Heng Ik.Heng@glasgow.ac.uk"
   ]
  },
  {
   "cell_type": "markdown",
   "id": "70a0a905-6d6f-41ee-9acb-60d588044b9e",
   "metadata": {},
   "source": [
    "### Week 1 &nbsp;&nbsp;<font size=\"3\"><font color=\"#A9A9A9\">May 27 - Jun 02 , 2024</font>\n",
    "-----"
   ]
  },
  {
   "cell_type": "markdown",
   "id": "a1a52b63-8e01-4072-9fc8-c2ffcd619e33",
   "metadata": {},
   "source": [
    "This week is the first week of the project, and we need to proactively email our supervisors to arrange an initial meeting. But before that, I have already received the relevant literature reading links. Therefore, this week's work will mainly focus on literature review and preliminary project preparations.\n",
    "\n",
    "**Weekly plan:**\n",
    "\n",
    "* Thoroughly read \"Gravitational Wave Observatories May Be Able to Detect Hyperbolic Encounters of Black Holes\" to understand the background of the project.\n",
    "<br> \n",
    "* Familiarize with several key aspects of the paper, gather and review additional relevant literature to build a comprehensive understanding of the project's scope, including:\n",
    "\n",
    "  \n",
    "  - Previous research on different gravitational wave detectors\n",
    "  - Studies of existing Scatter models and simulations on hyperbolic encounters\n",
    "  - Research on globular clusters and their properties\n",
    "  - Review the main methodologies used in calculating the total event rate\n",
    "<br>\n",
    "* Understand the prospects and future outlook of this work.\n",
    "<br>"
   ]
  },
  {
   "cell_type": "markdown",
   "id": "bfd8b7b2-4bf4-4308-be5d-d5472362baa0",
   "metadata": {},
   "source": [
    "### Week 2 &nbsp;&nbsp;<font size=\"3\"><font color=\"#A9A9A9\">Jun 03 - Jun 09 , 2024</font>\n",
    "-----"
   ]
  },
  {
   "cell_type": "markdown",
   "id": "cdc68276-6d55-4b7c-a135-8a9267a9641d",
   "metadata": {},
   "source": [
    "**Weekly meeting:**\n",
    "\n",
    "- Meeting Date : <u>5th June \n",
    "\n",
    "- Meeting Subject : <u>Project set up\n",
    "\n",
    "> This week's meeting primarily reported the progress of last week's literature review, discussed potential challenges and solutions in the calculations, and confirmed the weekly meeting time.\n",
    "\n",
    "\n",
    "**Weekly plan:**\n",
    "\n",
    "- Identified two additional papers to supplement the research:\n",
    "  - Gravitational wave energy spectrum of hyperbolic encounters\n",
    "  - Gravitational waves from hyperbolic encounters\n",
    "\n",
    "\n",
    "- Derived the scatter model's orbit equation $r(\\phi)$, focusing on several key hyperbolic geometric parameters: Semi-latus $p$, impact parameter $b$ and the periastron distance $r_{p}$.\n",
    "\n",
    "  \n",
    "- Clarified the assumptions of a conservative system.\n",
    "\n",
    "\n",
    "- Compared the model with classical models from two other papers, summarizing their similarities and differences.\n",
    "\n",
    "- Derived the event rate, including calculations for:\n",
    "  - $P_\\theta$\n",
    "  - $P_{\\text{indv}}$\n",
    "  - $ P_{\\text{cluster}} $\n",
    "  - $ P_{\\text{galaxy}} $\n",
    "  - $ P_{\\text{total}} $\n",
    "\n",
    "\n",
    "- Established a GitHub project repository and uploaded:\n",
    "  - Research notes\n",
    "  - Project log\n",
    "  - Code examples\n",
    "  \n"
   ]
  },
  {
   "cell_type": "markdown",
   "id": "75396c55-72d5-4bb5-9d37-bd48c886e8c5",
   "metadata": {},
   "source": [
    "### Week 3 &nbsp;&nbsp;<font size=\"3\"><font color=\"#A9A9A9\">Jun 11 - Jun 16 , 2024</font>\n",
    "-----"
   ]
  },
  {
   "cell_type": "markdown",
   "id": "84bd217c-581f-47d9-9806-f7dbce672dc1",
   "metadata": {},
   "source": [
    "**Weekly meeting:**\n",
    "\n",
    "- Meeting Date : <u>13th June \n",
    "\n",
    "- Meeting Subject : <u>Project targets\n",
    "\n",
    "> This meeting, based on my preliminary project preparation, defined two goals:\n",
    ">\n",
    "> - Short-term goal: Over the next few weeks, utilize existing methods to calculate the detectable event rates for LIGO A+ and ET-D detectors under different cluster models, based on the assumptions in the articles.\n",
    "> \n",
    "> - Long-term goal: Enhance numerical simulation calculations by integrating another research group's hyperbolic waveform model onto the existing method's foundation.\n",
    "\n",
    "\n",
    "**Weekly plan:**\n",
    "\n",
    "- Understood the calculation of SNR using existing waveforms.\n",
    "- Acquired knowledge of the sensitivity curves for each detector, including LIGO-Voyager, aLIGO, LIGO A+, ET, and CE.\n",
    "- Understood the relationship between SNR, initial angle, and event rate.\n",
    "- Analyzed and compared the five models proposed in the articles.\n",
    "- Updated the research note and project log on GitHub.\n",
    "- Attempted to write basic calculation code using formulas with approximation in the reference.\n",
    "    "
   ]
  },
  {
   "cell_type": "markdown",
   "id": "22f75b3c-4072-4085-bd45-67c03d06daad",
   "metadata": {},
   "source": [
    "### Week 4 &nbsp;&nbsp;<font size=\"3\"><font color=\"#A9A9A9\">Jun 17 - Jun 23 , 2024</font>\n",
    "-----"
   ]
  },
  {
   "cell_type": "markdown",
   "id": "de8af418-61ab-4fce-a577-86948a0da681",
   "metadata": {},
   "source": [
    "- Meeting Date : <u>20th June \n",
    "\n",
    "- Meeting Subject : <u>Issues on the simulation\n",
    "\n",
    "> The meeting discussed issues encountered in calculating the repeat event rate, including ambiguities in the definition of the distribution function mentioned in the article and the unclear relationship between SNR and initial angle. It was decided to perform simple linear fitting for SNR and initial angle calculations.\n",
    "\n",
    "\n",
    "**Weekly plan:**\n",
    "\n",
    "* **Simulation of the distribution function** : Conducted an extensive review of references to identify analytical methods describing the relationship between the number of compact objects and redshift. Based on the gathered data, employed a skewed normal distribution to simulate the distribution function of the number of black holes in the core of a globular cluster, denoted as $f(z,\\bar{M})$;\n",
    "  \n",
    "* **Simulation of SNR and $\\theta_{i}$**: Simulated the linear relationship between the signal-to-noise ratio (SNR) and the initial angle to determine the corresponding value of initial angle and so the angular momentum of the orbital system, under different SNR thresholds. Models were created to accurately reflect the expected variations in SNR as a function of the initial orbital parameters.\n",
    "\n"
   ]
  },
  {
   "cell_type": "markdown",
   "id": "88c0867d-11de-4f7b-af52-54df7f24b472",
   "metadata": {},
   "source": [
    "### Week 5 &nbsp;&nbsp;<font size=\"3\"><font color=\"#A9A9A9\">Jun 24 - Jun 30 , 2024</font>\n",
    "-----"
   ]
  },
  {
   "cell_type": "markdown",
   "id": "2dc8fa93-08bc-4ece-aa4b-cbb6f8aaaa37",
   "metadata": {},
   "source": [
    "- Meeting Date : <u>27th June \n",
    "\n",
    "- Meeting Subject : <u>Issues on calculation details\n",
    "\n",
    "> Based on the simulations, this meeting discussed more details and problems encountered during the repetition of calculations, including the change in comoving distance when calculating the number of galaxies and simplified approximations in the calculation of the probability of individual events in one cluster.\n",
    "\n",
    "\n",
    "**Weekly plan:**\n",
    "\n",
    "* **Comoving distance calculation:**\n",
    "  - Calculate the comoving distance for different redshifts based on its definition and the flat cosmological model parameters.\n",
    "  - Utilize these calculations and the number density of MWEGs to determine the whole number of galaxies at different redshifts.\n",
    "\n",
    "* **Analytical SNR and $\\theta_{i}$:**\n",
    "  - Derive a deeper analytical relationship between the initial angle and SNR using the impact parameter.\n",
    "  - Derive the transformation of the radiated frequency of gravitational waves and the dynamic frequency of orbital motion.\n",
    "\n",
    "* **Dataset Investigation:**\n",
    "  - Investigate the datasets of parameters for Model III and Model V.\n",
    "  - Examine their different cluster properties and initial conditions to understand their influence on the simulations.\n",
    "\n",
    "* **Event Rate Simplification:**\n",
    "  - Simplify the total event rate function as described in the referenced paper.\n",
    "  - Perform a rough numerical estimation of the quantity and compare it to the results presented in the reference to ensure accuracy and consistency.\n"
   ]
  },
  {
   "cell_type": "markdown",
   "id": "b3f4cc7a-b114-45c9-8200-b2967ed68d81",
   "metadata": {},
   "source": [
    "### Week 6 &nbsp;&nbsp;<font size=\"3\"><font color=\"#A9A9A9\">Jul 1 - Jul 7 , 2024</font>\n",
    "-----"
   ]
  },
  {
   "cell_type": "markdown",
   "id": "434a5ccd-5be8-4ded-a4ef-418e5b43236a",
   "metadata": {},
   "source": [
    "- Meeting Date : <u>4th July \n",
    "\n",
    "- Meeting Subject : <u>No meeting\n",
    "\n",
    "> Although there is no meeting this week, a list of important tasks needs to be addressed now that all the preparations are complete. \n",
    "\n",
    "**Weekly plan:**\n",
    "\n",
    "* **Write code for each component of the total event rate**: Implement the probabilities of events occurring in clusters and galaxies at different redshifts based on previous theoretical estimations and integrate them into a comprehensive program.\n",
    "* **Test the program with two different models**: Ensure the unification of various astronomical units (distance $\\mathrm{Mpc}$, $\\mathrm{Gpc}$ and $\\mathrm{au}$, velocity, mass, and number density and cosmological constant $H_{0}$) during calculations, and compare the results to those presented in the paper, analyzing any discrepancies.\n",
    "* **Develop a program for hyperbolic orbits**: Calculated different orbit parameters eccentricity $e$, the semi-latus $p$, the hyperbola parameters $a$, $b$ and the minimum distance at periastron $r_{p}$, the angle $\\phi_{0}$ and the orbit equation $r(\\phi)$ based on the cluster properties and initial conditions.\n",
    "* **Update research log**: Revise and enhance the research note and research log with the latest developments.\n"
   ]
  },
  {
   "cell_type": "markdown",
   "id": "da007f7c-e011-4cf3-8392-40d713fad48e",
   "metadata": {},
   "source": [
    "### Week 7 &nbsp;&nbsp;<font size=\"3\"><font color=\"#A9A9A9\">Jul 8 - Jul 14 , 2024</font>\n",
    "-----"
   ]
  },
  {
   "cell_type": "markdown",
   "id": "4c8bccd1-d06a-4f12-946a-44bd6dee3f8d",
   "metadata": {},
   "source": [
    "- Meeting Date : <u>11th July \n",
    "\n",
    "- Meeting Subject : <u>Issues on hyperbolic gravitational waveform model\n",
    "\n",
    "> During this meeting, the validity of the program concerning the hyperbolic encounter event rate has been confirmed. The next step involves calculating the total event rate based on these two models for different detectors, specifically LIGO A+ and ET_D, using the established method. Before proceeding, it is necessary to generate the hyperbolic waveform using LALsuite and then incorporate noise weighted by the Power Spectral Density (PSD) into the waveform.\n",
    "\n",
    "\n",
    "**Weekly plan:**\n",
    "\n",
    "* Utilize the gravitational waveform generated by pyCBC based on the SEOBNR waveform model to become acquainted with the testing procedures before obtaining the formal hyperbolic waveform model. Select the Power Spectral Density (PSD) from aLIGO, perform linear interpolation, and convert it into the frequency domain to generate the corresponding noise.\n",
    "* Develop the program to compute the strain of the hyperbolic waveform and calculate the power radiated from this waveform.\n",
    "* Initiate the drafting of the final report, including the organization and structuring of the entire document.\n",
    "* Organize and document the results and methodologies in the research note, and update the relevant research log on GitHub."
   ]
  },
  {
   "cell_type": "markdown",
   "id": "20368007-5754-4279-9dad-9e200bf74e86",
   "metadata": {},
   "source": [
    "### Week 8 &nbsp;&nbsp;<font size=\"3\"><font color=\"#A9A9A9\">Jul 15 - Jul 21 , 2024</font>\n",
    "-----"
   ]
  },
  {
   "cell_type": "markdown",
   "id": "abc7dbe9-d422-4047-b8a6-f165cf99cf12",
   "metadata": {},
   "source": [
    "- Meeting Date : <u>18th July \n",
    "\n",
    "- Meeting Subject : <u>No meeting\n",
    "\n",
    "> This week, there are no scheduled meetings; however, the tasks remain clear. We need to reach out to the relevant personnel for assistance with installing the hyperbolic waveform model. If this proves unsuccessful, we will need to consider transitioning to the parabolic waveform model as an alternative.\n",
    "\n",
    "\n",
    "**Weekly plan:**\n",
    "\n",
    "* Review a selection of references to understand the hyperbolic waveform model. Summarize the approach for calculating the hyperbolic gravitational waveform model, including the post-Newtonian accuracy applied to the impact parameter.\n",
    "* Test the code for calculating the hyperbolic strain amplitude in the time domain. Address the numerical solution for the relationship between the motion angle $\\phi$ and time based on the orbit program.\n",
    "* Develop the code to compute the hyperbolic strain and power spectrum as functions of the gravitational wave frequency.\n",
    "* Additional tasks, if any"
   ]
  },
  {
   "cell_type": "code",
   "execution_count": null,
   "id": "ea1f3fcc-cffb-4dab-ae76-fb1a1703628a",
   "metadata": {},
   "outputs": [],
   "source": []
  }
 ],
 "metadata": {
  "kernelspec": {
   "display_name": "Python 3 (ipykernel)",
   "language": "python",
   "name": "python3"
  },
  "language_info": {
   "codemirror_mode": {
    "name": "ipython",
    "version": 3
   },
   "file_extension": ".py",
   "mimetype": "text/x-python",
   "name": "python",
   "nbconvert_exporter": "python",
   "pygments_lexer": "ipython3",
   "version": "3.11.5"
  }
 },
 "nbformat": 4,
 "nbformat_minor": 5
}
